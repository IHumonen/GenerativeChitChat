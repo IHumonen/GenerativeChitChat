{
 "cells": [
  {
   "cell_type": "code",
   "execution_count": 2,
   "id": "e6fb1d4a",
   "metadata": {
    "scrolled": true
   },
   "outputs": [],
   "source": [
    "import wandb"
   ]
  },
  {
   "cell_type": "code",
   "execution_count": null,
   "id": "97c32e9c",
   "metadata": {},
   "outputs": [],
   "source": [
    "class Dataset(torch dataset):\n",
    "\n",
    "        def __init__(self, data, max_len, pad_index, eos_index):\n",
    "        \n",
    "        self.data = data\n",
    "        \n",
    "        self.max_len = max_len\n",
    "        \n",
    "        self.pad_index = pad_index\n",
    "        self.eos_index = eos_index\n",
    "\n",
    "    def __len__(self):\n",
    "        return self.length\n",
    "\n",
    "    def __getitem__(self, index):\n",
    "        \n",
    "        sequence = self.data[index][:self.max_len]\n",
    "        \n",
    "        # исходная последовательность\n",
    "        x = sequence[:]\n",
    "        # нужно предсказать смещенную последовательность\n",
    "        y = sequence[1:] + [self.eos_index]\n",
    "        \n",
    "        assert len(x) == len(y)\n",
    "        \n",
    "        pads = [self.pad_index] * (self.max_len - len(x))\n",
    "        \n",
    "        x = torch.tensor(x + pads).long()\n",
    "        y = torch.tensor(y + pads).long()\n",
    "        \n",
    "        return x, y"
   ]
  },
  {
   "cell_type": "code",
   "execution_count": null,
   "id": "37cffcfd",
   "metadata": {},
   "outputs": [],
   "source": [
    "class ChataboxModel(torch.nn.module):\n",
    "    \n",
    "    def forward(batch):\n",
    "        "
   ]
  },
  {
   "cell_type": "code",
   "execution_count": null,
   "id": "c305fb88",
   "metadata": {},
   "outputs": [],
   "source": [
    "def predict(model, batch, multigpu_mode, device, inference=False):\n",
    "        \n",
    "        predictions = model(batch)\n",
    "        \n",
    "        return predictions"
   ]
  },
  {
   "cell_type": "code",
   "execution_count": null,
   "id": "08516f5f",
   "metadata": {},
   "outputs": [],
   "source": [
    "def train(\n",
    "        model,\n",
    "        iterator,\n",
    "        optimizer,\n",
    "        criterion,\n",
    "        print_every=10,\n",
    "        epoch=0,\n",
    "        device=\"cpu\",\n",
    "    ):\n",
    "\n",
    "        print(f\"epoch {epoch}\")\n",
    "\n",
    "        epoch_loss = 0\n",
    "\n",
    "        model.train()\n",
    "\n",
    "        for i, batch in enumerate(iterator):\n",
    "\n",
    "            optimizer.zero_grad()\n",
    "\n",
    "            predictions, ys = predict(model, batch, device)\n",
    "\n",
    "            loss = criterion(predictions.float(), ys.float())\n",
    "            loss.backward()\n",
    "\n",
    "            optimizer.step()\n",
    "\n",
    "            batch_loss = loss.item()\n",
    "            epoch_loss += batch_loss\n",
    "\n",
    "            if not (i + 1) % print_every:\n",
    "                print(f\"step {i} from {len(iterator)} at epoch {epoch}\")\n",
    "                print(f\"Loss: {batch_loss}\")\n",
    "\n",
    "        return epoch_loss / len(iterator)\n"
   ]
  },
  {
   "cell_type": "code",
   "execution_count": null,
   "id": "aa5f5acd",
   "metadata": {},
   "outputs": [],
   "source": [
    "def evaluate(model, iterator, criterion, epoch=0, device=\"cpu\", save_checkpoints=True, timestamp=None):\n",
    "\n",
    "    print(f\"epoch {epoch} evaluation\")\n",
    "\n",
    "    epoch_loss = 0\n",
    "\n",
    "    #    model.train(False)\n",
    "    model.eval()\n",
    "\n",
    "    with torch.no_grad():\n",
    "        for batch in tqdm(iterator):\n",
    "\n",
    "            predictions, ys = predict(model, batch, multigpu_mode, device)\n",
    "\n",
    "            loss = criterion(predictions.float(), ys.to(device).float())\n",
    "\n",
    "            epoch_loss += loss.item()\n",
    "\n",
    "    overall_loss = epoch_loss / len(iterator)\n",
    "\n",
    "    if save_checkpoints:\n",
    "        file_name = f'{timestamp}_epoch_{str(epoch)}.pt'\n",
    "        folder = 'logs/checkpoint/'\n",
    "        path = os.path.expanduser(folder +  file_name)\n",
    "        torch.save(model.state_dict(), path)\n",
    "\n",
    "    print(f\"epoch loss {overall_loss}\")\n",
    "    print(\n",
    "        \"========================================================================================================\"\n",
    "    )\n",
    "\n",
    "    return overall_loss"
   ]
  },
  {
   "cell_type": "code",
   "execution_count": null,
   "id": "861168b9",
   "metadata": {},
   "outputs": [],
   "source": [
    "def inference(model, iterator, device='cpu'):\n",
    "\n",
    "    model.eval()\n",
    "\n",
    "    with torch.no_grad():\n",
    "        for batch in tqdm(iterator):\n",
    "            \n",
    "            predictions = predict(model, batch, device, inference=True)\n",
    "\n",
    "    return predictions"
   ]
  },
  {
   "cell_type": "markdown",
   "id": "fc310c4e",
   "metadata": {},
   "source": [
    "## Петля обучения"
   ]
  },
  {
   "cell_type": "code",
   "execution_count": null,
   "id": "8f87f543",
   "metadata": {},
   "outputs": [],
   "source": [
    "%%time\n",
    "loss = []\n",
    "loss_eval = []\n",
    "scores = []\n",
    "\n",
    "print(timestamp)\n",
    "print(f'Start training model {str(model)}')\n",
    "for i in range(epochs):\n",
    "    loss.append(train(model, training_generator, optimizer, criterion, epoch=i, device=device))\n",
    "    loss_eval.append(evaluate(model, valid_generator, criterion, epoch=i, device=device, save_checkpoints=True, timestamp=timestamp))"
   ]
  },
  {
   "cell_type": "code",
   "execution_count": null,
   "id": "c96e205e",
   "metadata": {},
   "outputs": [],
   "source": [
    "plt.plot(loss, color='red', label='train')\n",
    "plt.plot(loss_eval, color='blue', label='eval')\n",
    "plt.legend()\n",
    "plt.xlabel('epoch')\n",
    "plt.ylabel('Loss (какой?)')\n",
    "plt.title('ChataboxModel')\n",
    "plt.show()"
   ]
  }
 ],
 "metadata": {
  "kernelspec": {
   "display_name": "DeepAverageNetwork",
   "language": "python",
   "name": "deepaveragenetwork"
  },
  "language_info": {
   "codemirror_mode": {
    "name": "ipython",
    "version": 3
   },
   "file_extension": ".py",
   "mimetype": "text/x-python",
   "name": "python",
   "nbconvert_exporter": "python",
   "pygments_lexer": "ipython3",
   "version": "3.9.7"
  }
 },
 "nbformat": 4,
 "nbformat_minor": 5
}
